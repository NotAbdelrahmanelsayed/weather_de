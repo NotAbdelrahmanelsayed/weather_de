{
 "cells": [
  {
   "cell_type": "code",
   "execution_count": 4,
   "metadata": {},
   "outputs": [
    {
     "name": "stdout",
     "output_type": "stream",
     "text": [
      "/home/bedo7/weather_de/weather_etl/extract.py\n"
     ]
    }
   ],
   "source": [
    "import pandas as  pd\n",
    "from sqlalchemy import create_engine, text\n",
    "import psycopg2\n",
    "from configparser import ConfigParser\n",
    "import datetime\n",
    "import os\n",
    "from weather_etl.utils import read_config"
   ]
  },
  {
   "cell_type": "code",
   "execution_count": null,
   "metadata": {},
   "outputs": [
    {
     "name": "stdout",
     "output_type": "stream",
     "text": [
      "&&&&&&&&&&&&&&&&&&&&&&&&&&&&&&&&&&&&&&&&&&&&&&&&&&\n",
      "current path /home/bedo7/weather_de/weather_etl\n",
      "&&&&&&&&&&&&&&&&&&&&&&&&&&&&&&&&&&&&&&&&&&&&&&&&&&\n",
      "../data/weather_transformed.csv\n",
      "2025-02-22 16:08:54,492 INFO sqlalchemy.engine.Engine select pg_catalog.version()\n",
      "2025-02-22 16:08:54,492 INFO sqlalchemy.engine.Engine [raw sql] {}\n",
      "2025-02-22 16:08:54,494 INFO sqlalchemy.engine.Engine select current_schema()\n",
      "2025-02-22 16:08:54,494 INFO sqlalchemy.engine.Engine [raw sql] {}\n",
      "2025-02-22 16:08:54,495 INFO sqlalchemy.engine.Engine show standard_conforming_strings\n",
      "2025-02-22 16:08:54,495 INFO sqlalchemy.engine.Engine [raw sql] {}\n",
      "2025-02-22 16:08:54,503 INFO sqlalchemy.engine.Engine BEGIN (implicit)\n",
      "2025-02-22 16:08:54,509 INFO sqlalchemy.engine.Engine SELECT pg_catalog.pg_class.relname \n",
      "FROM pg_catalog.pg_class JOIN pg_catalog.pg_namespace ON pg_catalog.pg_namespace.oid = pg_catalog.pg_class.relnamespace \n",
      "WHERE pg_catalog.pg_class.relname = %(table_name)s AND pg_catalog.pg_class.relkind = ANY (ARRAY[%(param_1)s, %(param_2)s, %(param_3)s, %(param_4)s, %(param_5)s]) AND pg_catalog.pg_table_is_visible(pg_catalog.pg_class.oid) AND pg_catalog.pg_namespace.nspname != %(nspname_1)s\n",
      "2025-02-22 16:08:54,510 INFO sqlalchemy.engine.Engine [generated in 0.00086s] {'table_name': 'table_name', 'param_1': 'r', 'param_2': 'p', 'param_3': 'f', 'param_4': 'v', 'param_5': 'm', 'nspname_1': 'pg_catalog'}\n",
      "2025-02-22 16:08:54,518 INFO sqlalchemy.engine.Engine \n",
      "CREATE TABLE table_name (\n",
      "\tname TEXT, \n",
      "\tdatetime TEXT, \n",
      "\ttemp TEXT, \n",
      "\tfeelslike TEXT, \n",
      "\tdew TEXT, \n",
      "\thumidity TEXT, \n",
      "\tprecip TEXT, \n",
      "\tprecipprob TEXT, \n",
      "\tsnow TEXT, \n",
      "\tsnowdepth TEXT, \n",
      "\twindgust TEXT, \n",
      "\twindspeed TEXT, \n",
      "\twinddir TEXT, \n",
      "\tsealevelpressure TEXT, \n",
      "\tcloudcover TEXT, \n",
      "\tvisibility TEXT, \n",
      "\tsolarradiation TEXT, \n",
      "\tsolarenergy TEXT, \n",
      "\tuvindex TEXT, \n",
      "\tsevererisk TEXT, \n",
      "\tconditions TEXT, \n",
      "\ticon TEXT, \n",
      "\thour FLOAT(53), \n",
      "\ttimestamp BIGINT\n",
      ")\n",
      "\n",
      "\n",
      "2025-02-22 16:08:54,519 INFO sqlalchemy.engine.Engine [no key 0.00072s] {}\n",
      "2025-02-22 16:08:54,559 INFO sqlalchemy.engine.Engine INSERT INTO table_name (name, datetime, temp, feelslike, dew, humidity, precip, precipprob, snow, snowdepth, windgust, windspeed, winddir, sealevelpressure, cloudcover, visibility, solarradiation, solarenergy, uvindex, severerisk, conditions, icon, h ... 457281 characters truncated ... __999)s, %(severerisk__999)s, %(conditions__999)s, %(icon__999)s, %(hour__999)s, %(timestamp__999)s)\n",
      "2025-02-22 16:08:54,560 INFO sqlalchemy.engine.Engine [generated in 0.01275s (insertmanyvalues) 1/2 (unordered)] {'precipprob__0': '0.0', 'solarradiation__0': '0.0', 'winddir__0': '90.0', 'datetime__0': '2025-02-14 00:00:00', 'snowdepth__0': '0', 'windgust__0': '16.2', 'windspeed__0': '5.4', 'uvindex__0': '0', 'cloudcover__0': '0.0', 'dew__0': '4.0', 'sealevelpressure__0': '1024.0', 'hour__0': 0.0, 'humidity__0': '62.0', 'conditions__0': 'Clear', 'icon__0': 'clear-night', 'visibility__0': '6.0', 'name__0': 'Egypt', 'feelslike__0': '11.0', 'temp__0': '11.0', 'snow__0': '0', 'solarenergy__0': '0.0', 'severerisk__0': '10', 'timestamp__0': 1739491200, 'precip__0': '0.0', 'precipprob__1': '0.0', 'solarradiation__1': '0.0', 'winddir__1': '90.0', 'datetime__1': '2025-02-14 01:00:00', 'snowdepth__1': '0', 'windgust__1': '12.6', 'windspeed__1': '5.4', 'uvindex__1': '0', 'cloudcover__1': '56.0', 'dew__1': '4.0', 'sealevelpressure__1': '1023.0', 'hour__1': 1.0, 'humidity__1': '62.0', 'conditions__1': 'Partially cloudy', 'icon__1': 'partly-cloudy-night', 'visibility__1': '10.0', 'name__1': 'Egypt', 'feelslike__1': '11.0', 'temp__1': '11.0', 'snow__1': '0', 'solarenergy__1': '0.0', 'severerisk__1': '10', 'timestamp__1': 1739494800, 'precip__1': '0.0', 'precipprob__2': '0.0', 'solarradiation__2': '0.0' ... 23900 parameters truncated ... 'timestamp__997': 1740830400, 'precip__997': '0.0', 'precipprob__998': '0.0', 'solarradiation__998': '638.3', 'winddir__998': '205.7', 'datetime__998': '2025-03-01 13:00:00', 'snowdepth__998': '0', 'windgust__998': '13.8', 'windspeed__998': '10.7', 'uvindex__998': '6', 'cloudcover__998': '100.0', 'dew__998': '-6.3', 'sealevelpressure__998': '1016.0', 'hour__998': 13.0, 'humidity__998': '11.8', 'conditions__998': 'Overcast', 'icon__998': 'cloudy', 'visibility__998': '24.1', 'name__998': 'Egypt', 'feelslike__998': '25.4', 'temp__998': '25.4', 'snow__998': '0', 'solarenergy__998': '2.3', 'severerisk__998': '10', 'timestamp__998': 1740834000, 'precip__998': '0.0', 'precipprob__999': '0.0', 'solarradiation__999': '702.0', 'winddir__999': '211.1', 'datetime__999': '2025-03-01 14:00:00', 'snowdepth__999': '0', 'windgust__999': '13.7', 'windspeed__999': '10.8', 'uvindex__999': '7', 'cloudcover__999': '100.0', 'dew__999': '-8.3', 'sealevelpressure__999': '1015.0', 'hour__999': 14.0, 'humidity__999': '9.25', 'conditions__999': 'Overcast', 'icon__999': 'cloudy', 'visibility__999': '24.1', 'name__999': 'Egypt', 'feelslike__999': '25.7', 'temp__999': '26.9', 'snow__999': '0', 'solarenergy__999': '2.5', 'severerisk__999': '10', 'timestamp__999': 1740837600, 'precip__999': '0.0'}\n",
      "2025-02-22 16:08:54,640 INFO sqlalchemy.engine.Engine INSERT INTO table_name (name, datetime, temp, feelslike, dew, humidity, precip, precipprob, snow, snowdepth, windgust, windspeed, winddir, sealevelpressure, cloudcover, visibility, solarradiation, solarenergy, uvindex, severerisk, conditions, icon, h ... 366661 characters truncated ... __802)s, %(severerisk__802)s, %(conditions__802)s, %(icon__802)s, %(hour__802)s, %(timestamp__802)s)\n",
      "2025-02-22 16:08:54,641 INFO sqlalchemy.engine.Engine [insertmanyvalues 2/2 (unordered)] {'precipprob__0': '0.0', 'solarradiation__0': '578.0', 'winddir__0': '215.5', 'datetime__0': '2025-03-01 15:00:00', 'snowdepth__0': '0', 'windgust__0': '13.4', 'windspeed__0': '10.6', 'uvindex__0': '6', 'cloudcover__0': '100.0', 'dew__0': '-8.7', 'sealevelpressure__0': '1014.3', 'hour__0': 15.0, 'humidity__0': '9.08', 'conditions__0': 'Overcast', 'icon__0': 'cloudy', 'visibility__0': '24.1', 'name__0': 'Egypt', 'feelslike__0': '25.6', 'temp__0': '26.7', 'snow__0': '0', 'solarenergy__0': '2.1', 'severerisk__0': '10', 'timestamp__0': 1740841200, 'precip__0': '0.0', 'precipprob__1': '0.0', 'solarradiation__1': '454.0', 'winddir__1': '219.9', 'datetime__1': '2025-03-01 16:00:00', 'snowdepth__1': '0', 'windgust__1': '13.2', 'windspeed__1': '10.3', 'uvindex__1': '5', 'cloudcover__1': '100.0', 'dew__1': '-9.0', 'sealevelpressure__1': '1013.7', 'hour__1': 16.0, 'humidity__1': '8.92', 'conditions__1': 'Overcast', 'icon__1': 'cloudy', 'visibility__1': '24.1', 'name__1': 'Egypt', 'feelslike__1': '26.6', 'temp__1': '26.6', 'snow__1': '0', 'solarenergy__1': '1.6', 'severerisk__1': '10', 'timestamp__1': 1740844800, 'precip__1': '0.0', 'precipprob__2': '0.0', 'solarradiation__2': '330.0' ... 19172 parameters truncated ... 'timestamp__800': 1741381200, 'precip__800': '0', 'precipprob__801': '9.7', 'solarradiation__801': '0.0', 'winddir__801': '32.5', 'datetime__801': '2025-03-07 22:00:00', 'snowdepth__801': '0', 'windgust__801': '36.6', 'windspeed__801': '23.9', 'uvindex__801': '0', 'cloudcover__801': '0.0', 'dew__801': '7.5', 'sealevelpressure__801': '1015.0', 'hour__801': 22.0, 'humidity__801': '57.92', 'conditions__801': 'Clear', 'icon__801': 'clear-night', 'visibility__801': '24.1', 'name__801': 'Egypt', 'feelslike__801': '15.8', 'temp__801': '15.8', 'snow__801': '0', 'solarenergy__801': '0.0', 'severerisk__801': '10', 'timestamp__801': 1741384800, 'precip__801': '0', 'precipprob__802': '9.7', 'solarradiation__802': '0.0', 'winddir__802': '26.4', 'datetime__802': '2025-03-07 23:00:00', 'snowdepth__802': '0', 'windgust__802': '35.3', 'windspeed__802': '21.2', 'uvindex__802': '0', 'cloudcover__802': '0.0', 'dew__802': '8.2', 'sealevelpressure__802': '1015.0', 'hour__802': 23.0, 'humidity__802': '64.21', 'conditions__802': 'Clear', 'icon__802': 'clear-night', 'visibility__802': '24.1', 'name__802': 'Egypt', 'feelslike__802': '14.9', 'temp__802': '14.9', 'snow__802': '0', 'solarenergy__802': '0.0', 'severerisk__802': '10', 'timestamp__802': 1741388400, 'precip__802': '0'}\n",
      "2025-02-22 16:08:54,690 INFO sqlalchemy.engine.Engine COMMIT\n"
     ]
    },
    {
     "data": {
      "text/plain": [
       "803"
      ]
     },
     "execution_count": 5,
     "metadata": {},
     "output_type": "execute_result"
    }
   ],
   "source": [
    "parser = ConfigParser()\n",
    "read_config(parser)\n",
    "print(50*\"&\")\n",
    "print(f\"current path {os.getcwd()}\")\n",
    "print(50*\"&\")\n",
    "\n",
    "# Load database configuration\n",
    "dbname = parser.get(\"postgres_config\", \"database\")\n",
    "user = parser.get(\"postgres_config\", \"username\")\n",
    "password = parser.get(\"postgres_config\", \"password\")\n",
    "host = parser.get(\"postgres_config\", \"host\")\n",
    "port = parser.get(\"postgres_config\", \"port\")\n",
    "\n",
    "# Load dataset configuration\n",
    "path = parser.get(\"pathes\", \"transformed\")\n",
    "print(path)\n",
    "# Read the data in pandas\n",
    "df = pd.read_csv(path)\n",
    "\n",
    "\n",
    "# make Connection\n",
    "DATABASE_URL = f\"postgresql+psycopg2://{user}:{password}@{host}:{port}/{dbname}\"\n",
    "\n",
    "engine = create_engine(DATABASE_URL, echo=True)\n",
    "\n",
    "raw_conn = engine.raw_connection()\n",
    "\n",
    "\n",
    "\n",
    "\n",
    "\n",
    "\n",
    "\n",
    "# pd.read_sql(\"select * from weather\", con=conn)\n",
    "\n",
    "# # Get the last updated record\n",
    "# # query = text(\"select max(timestamp) from weather\")\n",
    "# # conn.execute(query)\n",
    "# # maximum_timestamp = int(conn.execute(query).fetchone()[0]) or 0 \n",
    "\n",
    "# # Select the new data to insert on the database\n",
    "# # df = df.query(f\"timestamp > {maximum_timestamp}\")\n",
    "# print(df)\n",
    "\n"
   ]
  },
  {
   "cell_type": "code",
   "execution_count": 7,
   "metadata": {},
   "outputs": [],
   "source": [
    "cursor.execute(\n",
    "    \"\"\"\n",
    "    CREATE TABLE IF NOT EXISTS my_table\n",
    "    (\n",
    "        id SERIAL PRIMARY KEY,\n",
    "        name TEXT NOT NULL,\n",
    "        created_at TIMESTAMP DEFAULT NOW()\n",
    "    );\n",
    "    \"\"\"\n",
    ")\n",
    "conn.commit()\n",
    "cursor.close()\n",
    "conn.close()"
   ]
  },
  {
   "cell_type": "markdown",
   "metadata": {},
   "source": [
    "## Read data from database with pandas"
   ]
  },
  {
   "cell_type": "code",
   "execution_count": 10,
   "metadata": {},
   "outputs": [
    {
     "name": "stderr",
     "output_type": "stream",
     "text": [
      "/tmp/ipykernel_1367/1444886856.py:5: UserWarning: pandas only supports SQLAlchemy connectable (engine/connection) or database string URI or sqlite3 DBAPI2 connection. Other DBAPI2 objects are not tested. Please consider using SQLAlchemy.\n",
      "  df = pd.read_sql(query, conn)\n"
     ]
    }
   ],
   "source": [
    "import pandas as pd \n",
    "import psycopg2\n",
    "conn = psycopg2.connect(dbname=dbname, user=user, password=password, host=host, port=port)\n",
    "query = \"select * from my_table\"\n",
    "df = pd.read_sql(query, conn)\n",
    "conn.close()"
   ]
  },
  {
   "cell_type": "code",
   "execution_count": 41,
   "metadata": {},
   "outputs": [
    {
     "name": "stdout",
     "output_type": "stream",
     "text": [
      "An error occurred: duplicate key value violates unique constraint \"test_table_pkey\"\n",
      "DETAIL:  Key (id)=(1) already exists.\n",
      "\n"
     ]
    }
   ],
   "source": [
    "import psycopg2\n",
    "import pandas as pd\n",
    "\n",
    "try:\n",
    "    conn = psycopg2.connect(dbname=dbname, user=user, password=password, host=host, port=port)\n",
    "    with conn:\n",
    "        with conn.cursor() as cursor:\n",
    "            cursor.execute(\"CREATE SCHEMA IF NOT EXISTS test_schema;\")\n",
    "            cursor.execute(\"\"\"\n",
    "                CREATE TABLE IF NOT EXISTS test_schema.test_table (\n",
    "                    id SERIAL PRIMARY KEY,\n",
    "                    name TEXT NOT NULL,\n",
    "                    created_at TIMESTAMP DEFAULT NOW()\n",
    "                );\n",
    "            \"\"\")\n",
    "            cursor.execute(\"\"\"\n",
    "                INSERT INTO test_schema.test_table (name)\n",
    "                VALUES ('bedo'), ('gpto3'), ('notbedo'), ('last_test_name');\n",
    "            \"\"\")\n",
    "    df = pd.read_sql(\"SELECT * FROM test_schema.test_table;\", conn)\n",
    "    print(df)\n",
    "except Exception as e:\n",
    "    print(\"An error occurred:\", e)\n",
    "finally:\n",
    "    if conn:\n",
    "        conn.close()\n"
   ]
  },
  {
   "cell_type": "code",
   "execution_count": 39,
   "metadata": {},
   "outputs": [
    {
     "name": "stderr",
     "output_type": "stream",
     "text": [
      "/tmp/ipykernel_1367/1554634624.py:6: UserWarning: pandas only supports SQLAlchemy connectable (engine/connection) or database string URI or sqlite3 DBAPI2 connection. Other DBAPI2 objects are not tested. Please consider using SQLAlchemy.\n",
      "  pd.read_sql(query, conn)\n"
     ]
    },
    {
     "data": {
      "text/html": [
       "<div>\n",
       "<style scoped>\n",
       "    .dataframe tbody tr th:only-of-type {\n",
       "        vertical-align: middle;\n",
       "    }\n",
       "\n",
       "    .dataframe tbody tr th {\n",
       "        vertical-align: top;\n",
       "    }\n",
       "\n",
       "    .dataframe thead th {\n",
       "        text-align: right;\n",
       "    }\n",
       "</style>\n",
       "<table border=\"1\" class=\"dataframe\">\n",
       "  <thead>\n",
       "    <tr style=\"text-align: right;\">\n",
       "      <th></th>\n",
       "      <th>id</th>\n",
       "      <th>name</th>\n",
       "      <th>created_at</th>\n",
       "    </tr>\n",
       "  </thead>\n",
       "  <tbody>\n",
       "    <tr>\n",
       "      <th>0</th>\n",
       "      <td>1</td>\n",
       "      <td>bedo</td>\n",
       "      <td>2025-02-22 14:45:46.101218</td>\n",
       "    </tr>\n",
       "    <tr>\n",
       "      <th>1</th>\n",
       "      <td>2</td>\n",
       "      <td>gpto3</td>\n",
       "      <td>2025-02-22 14:45:46.101218</td>\n",
       "    </tr>\n",
       "    <tr>\n",
       "      <th>2</th>\n",
       "      <td>3</td>\n",
       "      <td>notbedo</td>\n",
       "      <td>2025-02-22 14:45:46.101218</td>\n",
       "    </tr>\n",
       "    <tr>\n",
       "      <th>3</th>\n",
       "      <td>4</td>\n",
       "      <td>last_test_name</td>\n",
       "      <td>2025-02-22 14:45:46.101218</td>\n",
       "    </tr>\n",
       "  </tbody>\n",
       "</table>\n",
       "</div>"
      ],
      "text/plain": [
       "   id            name                 created_at\n",
       "0   1            bedo 2025-02-22 14:45:46.101218\n",
       "1   2           gpto3 2025-02-22 14:45:46.101218\n",
       "2   3         notbedo 2025-02-22 14:45:46.101218\n",
       "3   4  last_test_name 2025-02-22 14:45:46.101218"
      ]
     },
     "execution_count": 39,
     "metadata": {},
     "output_type": "execute_result"
    }
   ],
   "source": [
    "import pandas as pd\n",
    "conn = psycopg2.connect(dbname=dbname, user=user, password=password, host=host, port=port)\n",
    "cursor = conn.cursor()\n",
    "query = \"select * from test_schema.test_table;\"\n",
    "\n",
    "pd.read_sql(query, conn)"
   ]
  },
  {
   "cell_type": "code",
   "execution_count": 48,
   "metadata": {},
   "outputs": [
    {
     "name": "stdout",
     "output_type": "stream",
     "text": [
      "2025-02-22 15:00:16,017 INFO sqlalchemy.engine.Engine select pg_catalog.version()\n",
      "2025-02-22 15:00:16,019 INFO sqlalchemy.engine.Engine [raw sql] {}\n",
      "2025-02-22 15:00:16,021 INFO sqlalchemy.engine.Engine select current_schema()\n",
      "2025-02-22 15:00:16,023 INFO sqlalchemy.engine.Engine [raw sql] {}\n",
      "2025-02-22 15:00:16,025 INFO sqlalchemy.engine.Engine show standard_conforming_strings\n",
      "2025-02-22 15:00:16,027 INFO sqlalchemy.engine.Engine [raw sql] {}\n"
     ]
    },
    {
     "name": "stdout",
     "output_type": "stream",
     "text": [
      "   id            name                 created_at\n",
      "0   1            bedo 2025-02-22 14:45:46.101218\n",
      "1   2           gpto3 2025-02-22 14:45:46.101218\n",
      "2   3         notbedo 2025-02-22 14:45:46.101218\n",
      "3   4  last_test_name 2025-02-22 14:45:46.101218\n"
     ]
    },
    {
     "name": "stderr",
     "output_type": "stream",
     "text": [
      "/tmp/ipykernel_1367/3216653403.py:6: UserWarning: pandas only supports SQLAlchemy connectable (engine/connection) or database string URI or sqlite3 DBAPI2 connection. Other DBAPI2 objects are not tested. Please consider using SQLAlchemy.\n",
      "  df = pd.read_sql('SELECT * FROM test_schema.test_table', connection)\n"
     ]
    }
   ],
   "source": [
    "DATABASE_URL = f\"postgresql://{user}:{password}@{host}/{dbname}\"\n",
    "engine = create_engine(DATABASE_URL, echo=True)\n",
    "\n",
    "connection = engine.raw_connection()\n",
    "try:\n",
    "    df = pd.read_sql('SELECT * FROM test_schema.test_table', connection)\n",
    "    print(df)\n",
    "finally:\n",
    "    connection.close()\n"
   ]
  }
 ],
 "metadata": {
  "kernelspec": {
   "display_name": "venv",
   "language": "python",
   "name": "python3"
  },
  "language_info": {
   "codemirror_mode": {
    "name": "ipython",
    "version": 3
   },
   "file_extension": ".py",
   "mimetype": "text/x-python",
   "name": "python",
   "nbconvert_exporter": "python",
   "pygments_lexer": "ipython3",
   "version": "3.12.8"
  }
 },
 "nbformat": 4,
 "nbformat_minor": 2
}
